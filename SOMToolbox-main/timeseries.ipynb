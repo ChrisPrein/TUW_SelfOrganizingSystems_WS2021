{
 "cells": [
  {
   "cell_type": "code",
   "execution_count": 3,
   "id": "c2daa888",
   "metadata": {},
   "outputs": [],
   "source": [
    "import pandas as pd\n",
    "import numpy as np\n",
    "from somtoolbox import SOMToolbox\n",
    "import minisom as som\n",
    "import datetime\n",
    "from sklearn import datasets, preprocessing\n",
    "\n",
    "data = pd.read_excel('temps.xlsx', index_col=0)\n",
    "data = data.reset_index()\n",
    "\n",
    "def calc(row):\n",
    "    return datetime.datetime(int(row[0]), int(row[1]), int(row[2]))\n",
    "\n",
    "data['time'] = data.apply(calc, axis=1)\n",
    "data.drop(data.columns[[0, 1, 2]], axis=1, inplace=True)\n",
    "data = data.interpolate()\n",
    "data = data.set_index(keys='time')\n",
    "min_max_scaler = preprocessing.MinMaxScaler()\n",
    "\n",
    "real_data = data.copy()\n",
    "\n",
    "for i in range(data.shape[1]):\n",
    "    x_scaled = min_max_scaler.fit_transform(data.iloc[:,i].values.reshape(-1,1))\n",
    "    data.iloc[:,i] = np.log(x_scaled + 1)\n",
    "year = learn = data.loc['1985':'1986']\n",
    "\n",
    "m = 3\n",
    "n = 30\n",
    "\n",
    "s = som.MiniSom(n, m, learn.shape[1], sigma=.6, learning_rate=0.5)\n",
    "s.train_random(learn.values, 1000, verbose=False)#1000\n",
    "weights = s._weights.reshape(-1, learn.shape[1])"
   ]
  },
  {
   "cell_type": "code",
   "execution_count": 4,
   "id": "422b8c7d",
   "metadata": {},
   "outputs": [
    {
     "data": {
      "application/vnd.holoviews_exec.v0+json": "",
      "text/html": [
       "<div id='36784'>\n",
       "\n",
       "\n",
       "\n",
       "\n",
       "\n",
       "  <div class=\"bk-root\" id=\"8d6254dd-5b1c-4573-92db-5efe71d69351\" data-root-id=\"36784\"></div>\n",
       "</div>\n",
       "<script type=\"application/javascript\">(function(root) {\n",
       "  function embed_document(root) {\n",
       "    var docs_json = {\"2e7075eb-648e-45ee-9147-2fa4afbf97a7\":{\"defs\":[],\"roots\":{\"references\":[{\"attributes\":{},\"id\":\"36833\",\"type\":\"BasicTickFormatter\"},{\"attributes\":{\"text_color\":\"black\",\"text_font_size\":\"12pt\"},\"id\":\"36801\",\"type\":\"Title\"},{\"attributes\":{\"line_alpha\":{\"value\":0.1},\"line_color\":{\"value\":\"red\"},\"x0\":{\"field\":\"x0\"},\"x1\":{\"field\":\"x1\"},\"y0\":{\"field\":\"y0\"},\"y1\":{\"field\":\"y1\"}},\"id\":\"36851\",\"type\":\"Segment\"},{\"attributes\":{\"labels\":[\"interpolation\"],\"margin\":[5,10,5,10]},\"id\":\"36795\",\"type\":\"CheckboxGroup\"},{\"attributes\":{},\"id\":\"36831\",\"type\":\"AllLabels\"},{\"attributes\":{},\"id\":\"36821\",\"type\":\"ResetTool\"},{\"attributes\":{\"children\":[{\"id\":\"36787\"}],\"margin\":[0,0,0,0],\"name\":\"Column1134845\"},\"id\":\"36786\",\"type\":\"Column\"},{\"attributes\":{\"children\":[{\"id\":\"36800\"}],\"margin\":[0,0,0,0],\"name\":\"Column1134866\"},\"id\":\"36797\",\"type\":\"Column\"},{\"attributes\":{\"icon\":null,\"label\":\"\\u21a9\",\"margin\":[5,10,5,10],\"subscribed_events\":[\"button_click\"]},\"id\":\"36791\",\"type\":\"Button\"},{\"attributes\":{\"end\":5.0,\"reset_end\":5.0,\"reset_start\":-5.0,\"start\":-5.0,\"tags\":[[[\"y\",\"y\",null]]]},\"id\":\"36799\",\"type\":\"Range1d\"},{\"attributes\":{\"high\":0.5658741016723133,\"low\":0.30891095553129166,\"nan_color\":\"rgba(0, 0, 0, 0)\",\"palette\":[\"#00007f\",\"#000084\",\"#000088\",\"#00008d\",\"#000091\",\"#000096\",\"#00009a\",\"#00009f\",\"#0000a3\",\"#0000a8\",\"#0000ac\",\"#0000b1\",\"#0000b6\",\"#0000ba\",\"#0000bf\",\"#0000c3\",\"#0000c8\",\"#0000cc\",\"#0000d1\",\"#0000d5\",\"#0000da\",\"#0000de\",\"#0000e3\",\"#0000e8\",\"#0000ec\",\"#0000f1\",\"#0000f5\",\"#0000fa\",\"#0000fe\",\"#0000ff\",\"#0000ff\",\"#0000ff\",\"#0000ff\",\"#0004ff\",\"#0008ff\",\"#000cff\",\"#0010ff\",\"#0014ff\",\"#0018ff\",\"#001cff\",\"#0020ff\",\"#0024ff\",\"#0028ff\",\"#002cff\",\"#0030ff\",\"#0034ff\",\"#0038ff\",\"#003cff\",\"#0040ff\",\"#0044ff\",\"#0048ff\",\"#004cff\",\"#0050ff\",\"#0054ff\",\"#0058ff\",\"#005cff\",\"#0060ff\",\"#0064ff\",\"#0068ff\",\"#006cff\",\"#0070ff\",\"#0074ff\",\"#0078ff\",\"#007cff\",\"#0080ff\",\"#0084ff\",\"#0088ff\",\"#008cff\",\"#0090ff\",\"#0094ff\",\"#0098ff\",\"#009cff\",\"#00a0ff\",\"#00a4ff\",\"#00a8ff\",\"#00acff\",\"#00b0ff\",\"#00b4ff\",\"#00b8ff\",\"#00bcff\",\"#00c0ff\",\"#00c4ff\",\"#00c8ff\",\"#00ccff\",\"#00d0ff\",\"#00d4ff\",\"#00d8ff\",\"#00dcfe\",\"#00e0fa\",\"#00e4f7\",\"#02e8f4\",\"#05ecf1\",\"#08f0ed\",\"#0cf4ea\",\"#0ff8e7\",\"#12fce4\",\"#15ffe1\",\"#18ffdd\",\"#1cffda\",\"#1fffd7\",\"#22ffd4\",\"#25ffd0\",\"#29ffcd\",\"#2cffca\",\"#2fffc7\",\"#32ffc3\",\"#36ffc0\",\"#39ffbd\",\"#3cffba\",\"#3fffb7\",\"#42ffb3\",\"#46ffb0\",\"#49ffad\",\"#4cffaa\",\"#4fffa6\",\"#53ffa3\",\"#56ffa0\",\"#59ff9d\",\"#5cff9a\",\"#5fff96\",\"#63ff93\",\"#66ff90\",\"#69ff8d\",\"#6cff89\",\"#70ff86\",\"#73ff83\",\"#76ff80\",\"#79ff7d\",\"#7cff79\",\"#80ff76\",\"#83ff73\",\"#86ff70\",\"#89ff6c\",\"#8dff69\",\"#90ff66\",\"#93ff63\",\"#96ff5f\",\"#9aff5c\",\"#9dff59\",\"#a0ff56\",\"#a3ff53\",\"#a6ff4f\",\"#aaff4c\",\"#adff49\",\"#b0ff46\",\"#b3ff42\",\"#b7ff3f\",\"#baff3c\",\"#bdff39\",\"#c0ff36\",\"#c3ff32\",\"#c7ff2f\",\"#caff2c\",\"#cdff29\",\"#d0ff25\",\"#d4ff22\",\"#d7ff1f\",\"#daff1c\",\"#ddff18\",\"#e0ff15\",\"#e4ff12\",\"#e7ff0f\",\"#eaff0c\",\"#edff08\",\"#f1fc05\",\"#f4f802\",\"#f7f400\",\"#faf000\",\"#feed00\",\"#ffe900\",\"#ffe500\",\"#ffe200\",\"#ffde00\",\"#ffda00\",\"#ffd700\",\"#ffd300\",\"#ffcf00\",\"#ffcb00\",\"#ffc800\",\"#ffc400\",\"#ffc000\",\"#ffbd00\",\"#ffb900\",\"#ffb500\",\"#ffb100\",\"#ffae00\",\"#ffaa00\",\"#ffa600\",\"#ffa300\",\"#ff9f00\",\"#ff9b00\",\"#ff9800\",\"#ff9400\",\"#ff9000\",\"#ff8c00\",\"#ff8900\",\"#ff8500\",\"#ff8100\",\"#ff7e00\",\"#ff7a00\",\"#ff7600\",\"#ff7300\",\"#ff6f00\",\"#ff6b00\",\"#ff6700\",\"#ff6400\",\"#ff6000\",\"#ff5c00\",\"#ff5900\",\"#ff5500\",\"#ff5100\",\"#ff4d00\",\"#ff4a00\",\"#ff4600\",\"#ff4200\",\"#ff3f00\",\"#ff3b00\",\"#ff3700\",\"#ff3400\",\"#ff3000\",\"#ff2c00\",\"#ff2800\",\"#ff2500\",\"#ff2100\",\"#ff1d00\",\"#ff1a00\",\"#ff1600\",\"#fe1200\",\"#fa0f00\",\"#f50b00\",\"#f10700\",\"#ec0300\",\"#e80000\",\"#e30000\",\"#de0000\",\"#da0000\",\"#d50000\",\"#d10000\",\"#cc0000\",\"#c80000\",\"#c30000\",\"#bf0000\",\"#ba0000\",\"#b60000\",\"#b10000\",\"#ac0000\",\"#a80000\",\"#a30000\",\"#9f0000\",\"#9a0000\",\"#960000\",\"#910000\",\"#8d0000\",\"#880000\",\"#840000\",\"#7f0000\"]},\"id\":\"36835\",\"type\":\"LinearColorMapper\"},{\"attributes\":{\"children\":[{\"id\":\"36786\"},{\"id\":\"36796\"}],\"margin\":[0,0,0,0],\"name\":\"Column1134870\"},\"id\":\"36785\",\"type\":\"Column\"},{\"attributes\":{\"margin\":[0,0,0,0],\"name\":\"Row1134868\"},\"id\":\"36970\",\"type\":\"Row\"},{\"attributes\":{},\"id\":\"36807\",\"type\":\"LinearScale\"},{\"attributes\":{\"line_alpha\":{\"value\":1.0},\"line_cap\":{\"value\":\"butt\"},\"line_color\":{\"value\":\"red\"},\"line_dash\":{\"value\":[]},\"line_dash_offset\":{\"value\":0},\"line_join\":{\"value\":\"bevel\"},\"line_width\":{\"value\":1},\"x0\":{\"field\":\"x0\"},\"x1\":{\"field\":\"x1\"},\"y0\":{\"field\":\"y0\"},\"y1\":{\"field\":\"y1\"}},\"id\":\"36854\",\"type\":\"Segment\"},{\"attributes\":{\"margin\":[5,10,5,10],\"options\":[[\"0\",\"Component Planes\"],[\"1\",\"Hit Histogram\"],[\"2\",\"U-matrix\"],[\"3\",\"D-Matrix\"],[\"4\",\"P-matrix & U*-matrix\"],[\"5\",\"Smoothed Data Histograms\"],[\"6\",\"Pie Chart\"],[\"7\",\"Neighbourhood Graph\"],[\"8\",\"Chessboard\"],[\"9\",\"Clustering\"],[\"10\",\"Metro Map\"],[\"11\",\"Quantization Error\"],[\"12\",\"Time Series\"]],\"value\":\"0\"},\"id\":\"36789\",\"type\":\"Select\"},{\"attributes\":{},\"id\":\"36819\",\"type\":\"WheelZoomTool\"},{\"attributes\":{\"color_mapper\":{\"id\":\"36835\"},\"dh\":{\"field\":\"dh\"},\"dw\":{\"field\":\"dw\"},\"image\":{\"field\":\"image\"},\"x\":{\"field\":\"x\"},\"y\":{\"field\":\"y\"}},\"id\":\"36839\",\"type\":\"Image\"},{\"attributes\":{},\"id\":\"36814\",\"type\":\"BasicTicker\"},{\"attributes\":{\"data\":{\"x0\":{\"__ndarray__\":\"\",\"dtype\":\"float64\",\"order\":\"little\",\"shape\":[0]},\"x1\":{\"__ndarray__\":\"\",\"dtype\":\"float64\",\"order\":\"little\",\"shape\":[0]},\"y0\":{\"__ndarray__\":\"\",\"dtype\":\"float64\",\"order\":\"little\",\"shape\":[0]},\"y1\":{\"__ndarray__\":\"\",\"dtype\":\"float64\",\"order\":\"little\",\"shape\":[0]}},\"selected\":{\"id\":\"36848\"},\"selection_policy\":{\"id\":\"36865\"}},\"id\":\"36847\",\"type\":\"ColumnDataSource\"},{\"attributes\":{\"children\":[{\"id\":\"36964\"}],\"margin\":[0,0,0,0],\"name\":\"Row1134867\"},\"id\":\"36963\",\"type\":\"Row\"},{\"attributes\":{\"children\":[{\"id\":\"36965\"},{\"id\":\"36968\"}],\"margin\":[0,0,0,0],\"name\":\"\"},\"id\":\"36964\",\"type\":\"Column\"},{\"attributes\":{\"icon\":null,\"label\":\"\\u2194\",\"margin\":[5,10,5,10],\"subscribed_events\":[\"button_click\"]},\"id\":\"36793\",\"type\":\"Button\"},{\"attributes\":{},\"id\":\"36830\",\"type\":\"BasicTickFormatter\"},{\"attributes\":{\"children\":[{\"id\":\"36966\"},{\"id\":\"36967\"}],\"margin\":[5,5,5,5],\"min_width\":300,\"name\":\"Component Planes\",\"width\":300},\"id\":\"36965\",\"type\":\"Column\"},{\"attributes\":{},\"id\":\"36817\",\"type\":\"SaveTool\"},{\"attributes\":{},\"id\":\"36818\",\"type\":\"PanTool\"},{\"attributes\":{\"children\":[{\"id\":\"36797\"},{\"id\":\"36963\"}],\"margin\":[0,0,0,0],\"name\":\"Row1134869\"},\"id\":\"36796\",\"type\":\"Row\"},{\"attributes\":{\"color_mapper\":{\"id\":\"36835\"},\"dh\":{\"field\":\"dh\"},\"dw\":{\"field\":\"dw\"},\"image\":{\"field\":\"image\"},\"x\":{\"field\":\"x\"},\"y\":{\"field\":\"y\"}},\"id\":\"36845\",\"type\":\"Image\"},{\"attributes\":{\"line_color\":{\"value\":\"red\"},\"x0\":{\"field\":\"x0\"},\"x1\":{\"field\":\"x1\"},\"y0\":{\"field\":\"y0\"},\"y1\":{\"field\":\"y1\"}},\"id\":\"36850\",\"type\":\"Segment\"},{\"attributes\":{},\"id\":\"36834\",\"type\":\"AllLabels\"},{\"attributes\":{\"bottom_units\":\"screen\",\"fill_alpha\":0.5,\"fill_color\":\"lightgrey\",\"left_units\":\"screen\",\"level\":\"overlay\",\"line_alpha\":1.0,\"line_color\":\"black\",\"line_dash\":[4,4],\"line_width\":2,\"right_units\":\"screen\",\"syncable\":false,\"top_units\":\"screen\"},\"id\":\"36822\",\"type\":\"BoxAnnotation\"},{\"attributes\":{},\"id\":\"36863\",\"type\":\"UnionRenderers\"},{\"attributes\":{},\"id\":\"36865\",\"type\":\"UnionRenderers\"},{\"attributes\":{\"icon\":null,\"label\":\"\\u21aa\",\"margin\":[5,10,5,10],\"subscribed_events\":[\"button_click\"]},\"id\":\"36792\",\"type\":\"Button\"},{\"attributes\":{\"margin\":[5,10,5,10],\"name\":\"\",\"text\":\"<b>Component Planes</b>\"},\"id\":\"36966\",\"type\":\"Div\"},{\"attributes\":{\"end\":0.5,\"reset_end\":0.5,\"reset_start\":-0.5,\"start\":-0.5,\"tags\":[[[\"x\",\"x\",null]]]},\"id\":\"36798\",\"type\":\"Range1d\"},{\"attributes\":{},\"id\":\"36837\",\"type\":\"Selection\"},{\"attributes\":{\"source\":{\"id\":\"36847\"}},\"id\":\"36853\",\"type\":\"CDSView\"},{\"attributes\":{\"children\":[{\"id\":\"36970\"}],\"margin\":[0,0,0,0],\"name\":\"Column1134871\"},\"id\":\"36969\",\"type\":\"Column\"},{\"attributes\":{\"color_mapper\":{\"id\":\"36835\"},\"dh\":{\"field\":\"dh\"},\"dw\":{\"field\":\"dw\"},\"global_alpha\":0.1,\"image\":{\"field\":\"image\"},\"x\":{\"field\":\"x\"},\"y\":{\"field\":\"y\"}},\"id\":\"36841\",\"type\":\"Image\"},{\"attributes\":{\"active_multi\":null,\"tools\":[{\"id\":\"36817\"},{\"id\":\"36818\"},{\"id\":\"36819\"},{\"id\":\"36820\"},{\"id\":\"36821\"}]},\"id\":\"36823\",\"type\":\"Toolbar\"},{\"attributes\":{\"children\":[{\"id\":\"36785\"},{\"id\":\"36969\"}],\"margin\":[0,0,0,0],\"name\":\"Column1134872\"},\"id\":\"36784\",\"type\":\"Column\"},{\"attributes\":{\"margin\":[5,10,5,10],\"name\":\"\",\"text\":\"<b></b>\"},\"id\":\"36788\",\"type\":\"Div\"},{\"attributes\":{\"margin\":[5,10,5,10],\"options\":[[\"PiYG\",\"PiYG\"],[\"PRGn\",\"PRGn\"],[\"BrBG\",\"BrBG\"],[\"PuOr\",\"PuOr\"],[\"RdGy\",\"RdGy\"],[\"RdBu\",\"RdBu\"],[\"RdYlBu\",\"RdYlBu\"],[\"RdYlGn\",\"RdYlGn\"],[\"Spectral\",\"Spectral\"],[\"coolwarm\",\"coolwarm\"],[\"bwr\",\"bwr\"],[\"seismic\",\"seismic\"],[\"gist_gray\",\"gist_gray\"],[\"bone\",\"bone\"],[\"pink\",\"pink\"],[\"spring\",\"spring\"],[\"summer\",\"summer\"],[\"autumn\",\"autumn\"],[\"winter\",\"winter\"],[\"cool\",\"cool\"],[\"Wistia\",\"Wistia\"],[\"hot\",\"hot\"],[\"afmhot\",\"afmhot\"],[\"gist_heat\",\"gist_heat\"],[\"copper\",\"copper\"],[\"Greys\",\"Greys\"],[\"Purples\",\"Purples\"],[\"Blues\",\"Blues\"],[\"Greens\",\"Greens\"],[\"Oranges\",\"Oranges\"],[\"Reds\",\"Reds\"],[\"YlOrBr\",\"YlOrBr\"],[\"YlOrRd\",\"YlOrRd\"],[\"OrRd\",\"OrRd\"],[\"PuRd\",\"PuRd\"],[\"RdPu\",\"RdPu\"],[\"BuPu\",\"BuPu\"],[\"GnBu\",\"GnBu\"],[\"PuBu\",\"PuBu\"],[\"YlGnBu\",\"YlGnBu\"],[\"PuBuGn\",\"PuBuGn\"],[\"BuGn\",\"BuGn\"],[\"YlGn\",\"YlGn\"],[\"viridis\",\"viridis\"],[\"plasma\",\"plasma\"],[\"inferno\",\"inferno\"],[\"magma\",\"magma\"],[\"cividis\",\"cividis\"],[\"twilight\",\"twilight\"],[\"twilight_shifted\",\"twilight_shifted\"],[\"hsv\",\"hsv\"],[\"Pastel1\",\"Pastel1\"],[\"Paired\",\"Paired\"],[\"Accent\",\"Accent\"],[\"Dark2\",\"Dark2\"],[\"Set1\",\"Set1\"],[\"Set2\",\"Set2\"],[\"Set3\",\"Set3\"],[\"tab10\",\"tab10\"],[\"tab20\",\"tab20\"],[\"tab20b\",\"tab20b\"],[\"tab20c\",\"tab20c\"],[\"flag\",\"flag\"],[\"prism\",\"prism\"],[\"ocean\",\"ocean\"],[\"gist_earth\",\"gist_earth\"],[\"terrain\",\"terrain\"],[\"gist_stern\",\"gist_stern\"],[\"gnuplot\",\"gnuplot\"],[\"gnuplot2\",\"gnuplot2\"],[\"CMRmap\",\"CMRmap\"],[\"cubehelix\",\"cubehelix\"],[\"brg\",\"brg\"],[\"gist_rainbow\",\"gist_rainbow\"],[\"rainbow\",\"rainbow\"],[\"jet\",\"jet\"],[\"turbo\",\"turbo\"],[\"nipy_spectral\",\"nipy_spectral\"],[\"gist_ncar\",\"gist_ncar\"],[\"glasbey_dark\",\"glasbey_dark\"]],\"value\":\"jet\"},\"id\":\"36790\",\"type\":\"Select\"},{\"attributes\":{\"axis\":{\"id\":\"36813\"},\"dimension\":1,\"grid_line_color\":null,\"ticker\":null},\"id\":\"36816\",\"type\":\"Grid\"},{\"attributes\":{\"margin\":[5,5,5,5],\"name\":\"Str1134885\",\"text\":\"&lt;pre&gt;Slicing weight vector according it&#x27;s components.&lt;/pre&gt;\"},\"id\":\"36968\",\"type\":\"panel.models.markup.HTML\"},{\"attributes\":{\"data_source\":{\"id\":\"36847\"},\"glyph\":{\"id\":\"36850\"},\"hover_glyph\":null,\"muted_glyph\":null,\"nonselection_glyph\":{\"id\":\"36851\"},\"selection_glyph\":{\"id\":\"36854\"},\"view\":{\"id\":\"36853\"}},\"id\":\"36852\",\"type\":\"GlyphRenderer\"},{\"attributes\":{\"end\":7,\"margin\":[5,10,5,10],\"start\":0,\"title\":\"Component\",\"value\":0},\"id\":\"36967\",\"type\":\"Slider\"},{\"attributes\":{\"axis_label\":\"y\",\"formatter\":{\"id\":\"36833\"},\"major_label_policy\":{\"id\":\"36834\"},\"ticker\":{\"id\":\"36814\"}},\"id\":\"36813\",\"type\":\"LinearAxis\"},{\"attributes\":{\"axis\":{\"id\":\"36809\"},\"grid_line_color\":null,\"ticker\":null},\"id\":\"36812\",\"type\":\"Grid\"},{\"attributes\":{\"data\":{\"dh\":[1.0],\"dw\":[1.0],\"image\":[{\"__ndarray__\":\"QZELAgl71z+9Bxi3tKLbP2uqTBNXBOE/5p/WTGAP4D9wiHAbmT/gP46wJcY73uA/U59xfZkC4D8tEhu5XS/hP/39wdVTeOE/IthaXaN/4D8Wmf7dI/beP+K9YegcleE/kt28qlU33z93CuwX+JTfP95UJSM2Hd4/8r5efsE43z9Qjl7LXaDeP32Y3Ih5Zt8/x18zQPWH4D8WA0I+YijePxu96rWFmd0/UFn/h9Nb4T/8bOxiEoTgP/G1lbAKXd4/99QTCfQg4T/B15pjggrgP/+WyKpghNk/rwNSo9ME4D+ghet8/jvfPwOTxxwYe9c/7YPY+QKS2z+P3GjhiYrePxTCYb84hOA/8hSrkQDP2T9/aSxH9RLePz4vcBNWut0/1t5VBgC/1z87rrkrCXnYP7NSTE47kNg/xSBGGLFP3T93XgsCnfjbP1FAb/HTWN0/hMPGLamu4D+Im7FOoJPgP1TePC4CG+E/5sEK19a53z8YUF/03DbgP+gO/thAQeA/H6jvOMKH4D9kSrF+Py/gPytX2ZDY5OA/aoeSCMls4D97ceZ9I2zhPznACgGkG+I/H5ttsAUZ3z/w8JzjyrnhP/FKCF+byd0/zPxXX8jJ2z8wxskEirTfP6RtJgPaVuE/NORIvB4/2T/vo+LTKV7XPwHLbXWhdtc/BnSxY3rl1D8Y4Dd4N1PUP1/pZp5XZtc/Fpx+QTUU1D/ajq8jBR/UP53ZQunPVdg/NIPYdDLF0z8Pf6TOsdfTP6WTG3JSUtc/VU8t/NbF1T9qrMoyQjnWPyyZksYMbdY/N47iTdVT1D9MhnDrNMXXP7pHYFylrtg/3aIfMuPi2D9d2g6UwYPZP2qRImpu2No/i9VlqQ1b3D+6zHQjYgTaP4ztn+odHN4/wwgjd6833z8dQ7XMKC/gP/Pkty+MBOE/pJ4DMuaU3z/webUBf4ndP4C+Zs5UQeE/\",\"dtype\":\"float64\",\"order\":\"little\",\"shape\":[3,30]}],\"x\":[-0.5],\"y\":[-0.5]},\"selected\":{\"id\":\"36837\"},\"selection_policy\":{\"id\":\"36863\"}},\"id\":\"36836\",\"type\":\"ColumnDataSource\"},{\"attributes\":{\"source\":{\"id\":\"36836\"}},\"id\":\"36844\",\"type\":\"CDSView\"},{\"attributes\":{\"below\":[{\"id\":\"36809\"}],\"center\":[{\"id\":\"36812\"},{\"id\":\"36816\"}],\"height\":500,\"left\":[{\"id\":\"36813\"}],\"margin\":[5,5,5,5],\"min_border_bottom\":10,\"min_border_left\":10,\"min_border_right\":10,\"min_border_top\":10,\"renderers\":[{\"id\":\"36843\"},{\"id\":\"36852\"}],\"sizing_mode\":\"fixed\",\"title\":{\"id\":\"36801\"},\"toolbar\":{\"id\":\"36823\"},\"width\":500,\"x_range\":{\"id\":\"36798\"},\"x_scale\":{\"id\":\"36805\"},\"y_range\":{\"id\":\"36799\"},\"y_scale\":{\"id\":\"36807\"}},\"id\":\"36800\",\"subtype\":\"Figure\",\"type\":\"Plot\"},{\"attributes\":{\"data_source\":{\"id\":\"36836\"},\"glyph\":{\"id\":\"36839\"},\"hover_glyph\":null,\"muted_glyph\":null,\"nonselection_glyph\":{\"id\":\"36841\"},\"selection_glyph\":{\"id\":\"36845\"},\"view\":{\"id\":\"36844\"}},\"id\":\"36843\",\"type\":\"GlyphRenderer\"},{\"attributes\":{\"client_comm_id\":\"90b56792fadd488fbc8f56ed2a311dc4\",\"comm_id\":\"5cd6f8f0d2d941689182f7ac5f683a1b\",\"plot_id\":\"36784\"},\"id\":\"37007\",\"type\":\"panel.models.comm_manager.CommManager\"},{\"attributes\":{\"axis_label\":\"x\",\"formatter\":{\"id\":\"36830\"},\"major_label_policy\":{\"id\":\"36831\"},\"ticker\":{\"id\":\"36810\"}},\"id\":\"36809\",\"type\":\"LinearAxis\"},{\"attributes\":{},\"id\":\"36805\",\"type\":\"LinearScale\"},{\"attributes\":{\"overlay\":{\"id\":\"36822\"}},\"id\":\"36820\",\"type\":\"BoxZoomTool\"},{\"attributes\":{},\"id\":\"36848\",\"type\":\"Selection\"},{\"attributes\":{},\"id\":\"36810\",\"type\":\"BasicTicker\"},{\"attributes\":{\"icon\":null,\"label\":\"\\u2195\",\"margin\":[5,10,5,10],\"subscribed_events\":[\"button_click\"]},\"id\":\"36794\",\"type\":\"Button\"},{\"attributes\":{\"children\":[{\"id\":\"36788\"},{\"id\":\"36789\"},{\"id\":\"36790\"},{\"id\":\"36791\"},{\"id\":\"36792\"},{\"id\":\"36793\"},{\"id\":\"36794\"},{\"id\":\"36795\"}],\"margin\":[5,5,5,5],\"min_width\":700,\"name\":\"\",\"width\":700},\"id\":\"36787\",\"type\":\"Row\"}],\"root_ids\":[\"36784\",\"37007\"]},\"title\":\"Bokeh Application\",\"version\":\"2.3.1\"}};\n",
       "    var render_items = [{\"docid\":\"2e7075eb-648e-45ee-9147-2fa4afbf97a7\",\"root_ids\":[\"36784\"],\"roots\":{\"36784\":\"8d6254dd-5b1c-4573-92db-5efe71d69351\"}}];\n",
       "    root.Bokeh.embed.embed_items_notebook(docs_json, render_items);\n",
       "  }\n",
       "  if (root.Bokeh !== undefined && root.Bokeh.Panel !== undefined) {\n",
       "    embed_document(root);\n",
       "  } else {\n",
       "    var attempts = 0;\n",
       "    var timer = setInterval(function(root) {\n",
       "      if (root.Bokeh !== undefined && root.Bokeh.Panel !== undefined) {\n",
       "        clearInterval(timer);\n",
       "        embed_document(root);\n",
       "      } else if (document.readyState == \"complete\") {\n",
       "        attempts++;\n",
       "        if (attempts > 100) {\n",
       "          clearInterval(timer);\n",
       "          console.log(\"Bokeh: ERROR: Unable to run BokehJS code because BokehJS library is missing\");\n",
       "        }\n",
       "      }\n",
       "    }, 10, root)\n",
       "  }\n",
       "})(window);</script>"
      ],
      "text/plain": [
       "Column\n",
       "    [0] Column\n",
       "        [0] Column\n",
       "            [0] Row(margin=5, width=700)\n",
       "                [0] StaticText(value='<b></b>')\n",
       "                [1] Select(options=OrderedDict([('Component P...]), value=0)\n",
       "                [2] Select(options=OrderedDict([('PiYG', ...]), value='jet')\n",
       "                [3] Button(name='↩')\n",
       "                [4] Button(name='↪')\n",
       "                [5] Button(name='↔')\n",
       "                [6] Button(name='↕')\n",
       "                [7] Checkbox(name='interpolation')\n",
       "        [1] Row\n",
       "            [0] Column\n",
       "                [0] HoloViews(DynamicMap)\n",
       "            [1] Row\n",
       "                [0] Column\n",
       "                    [0] Column(margin=5, name='Component Planes', width=300)\n",
       "                        [0] StaticText(value='<b>Component Planes</b>')\n",
       "                        [1] IntSlider(end=7, name='Component')\n",
       "                    [1] Str(str)\n",
       "    [1] Column\n",
       "        [0] Row()"
      ]
     },
     "execution_count": 4,
     "metadata": {
      "application/vnd.holoviews_exec.v0+json": {
       "id": "36784"
      }
     },
     "output_type": "execute_result"
    }
   ],
   "source": [
    "sm = SOMToolbox(weights=weights,m=m,n=n,dimension=8, input_data=data.loc['1985':'1992'].values)\n",
    "sm._mainview"
   ]
  },
  {
   "cell_type": "code",
   "execution_count": null,
   "id": "a967db91",
   "metadata": {},
   "outputs": [],
   "source": []
  }
 ],
 "metadata": {
  "kernelspec": {
   "display_name": "Python 3",
   "language": "python",
   "name": "python3"
  },
  "language_info": {
   "codemirror_mode": {
    "name": "ipython",
    "version": 3
   },
   "file_extension": ".py",
   "mimetype": "text/x-python",
   "name": "python",
   "nbconvert_exporter": "python",
   "pygments_lexer": "ipython3",
   "version": "3.6.13"
  }
 },
 "nbformat": 4,
 "nbformat_minor": 5
}
